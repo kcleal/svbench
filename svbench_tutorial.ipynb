{
 "cells": [
  {
   "cell_type": "markdown",
   "metadata": {},
   "source": [
    "# SVBench\n",
    "\n",
    "## Load reference calls\n",
    "\n",
    "Download reference call sets from GIAB: [HG002](ftp://ftp-trace.ncbi.nlm.nih.gov/giab/ftp/data/AshkenazimTrio/analysis/NIST_SVs_Integration_v0.6/HG002_SVs_Tier1_v0.6.vcf.gz),\n",
    "[NA12878](ftp://ftp-trace.ncbi.nlm.nih.gov/giab/ftp/technical/svclassify_Manuscript/Supplementary_Information/Personalis_1000_Genomes_deduplicated_deletions.bed)\n",
    "\n",
    "Decompress HG002. We will utilize an input folder `\"../benchmark_ngs\"` and place reference and query SV calls there for convenience. \n",
    "\n",
    "Reference calls are then loaded into a data object:"
   ]
  },
  {
   "cell_type": "code",
   "execution_count": 2,
   "metadata": {},
   "outputs": [
    {
     "name": "stdout",
     "output_type": "stream",
     "text": [
      "NA12878 loaded rows 2676\n"
     ]
    }
   ],
   "source": [
    "import io_tools \n",
    "\n",
    "ref_data = dict()\n",
    "\n",
    "# Vcf format\n",
    "#ref_data = io_tools.load_vcf(\"../benchmark_ngs/HG002_SVs_Tier1_v0.6.vcf\",\n",
    "#                             name=\"HG002\", data=ref_data, slop=100, tree=True)\n",
    "\n",
    "# Load reference calls in bed format\n",
    "ref_data = io_tools.load_ref_bed(\"../benchmark_ngs/Personalis_1000_Genomes_deduplicated_deletions.bed\",\n",
    "                             name=\"NA12878\", data=ref_data, slop=100)\n"
   ]
  },
  {
   "cell_type": "markdown",
   "metadata": {},
   "source": [
    "Internally, all reference calls are converted to a bedpe format - an interval is created around each breakpoint of size +/- `slop`. The `slop` value controls the maximum distance a query call can be from a reference call to be identified as a match.\n",
    "\n",
    "Note, the vcf loader requires an \"END\" tag in column 7 to work properly.\n",
    "For translocations, calls should instead be manually converted to bedpe and loaded with the `ref_tools.load_bedpe` function, also note that no `slop` is added to calls in bedpe format automatically.\n",
    "The `ref_data` object has the structure:\n",
    "```python\n",
    "ref_data = {'HG002':  {'tree': overlap_object, 'bedpe': pandas_dataframe},\n",
    "            'NA12878': {'tree': overlap_object, 'bedpe': pandas_dataframe}}\n",
    "```\n",
    "\n",
    "The `overlap_object` is a `dict`; keys are chromosomes and values are [nested containment list's](https://github.com/biocore-ntnu/ncls), used for testing overlap queries.\n",
    "\n",
    "To manually construct the `overlap_object`, the function `io_tools.make_tree` can be used, note `slop` argument to create an interval around the break:\n",
    "\n",
    "```python\n",
    "# List of SVs in the form (chrom1, breakpoint1, chrom2, breakpoint2)\n",
    "regions = [(\"chr1\", 10000, \"chr1\", 20000), (\"chr3\", 7500, \"chr4\", 25000)]  \n",
    "overlap_object = io_tools.make_tree(regions, slop=100)\n",
    "\n",
    "# Or bedpe format can be used to manually set slop (chrom1, start1, end2, chrom2, start2, end2\n",
    "regions = [(\"chr1\", 10000, 10100, \"chr1\", 20000, 200100), (\"chr3\", 7500, 7600, \"chr4\", 25000, 25100)] \n",
    "overlap_object = io_tools.make_tree(regions, bedpe=True)\n",
    "```"
   ]
  },
  {
   "cell_type": "markdown",
   "metadata": {},
   "source": [
    "## Load query calls\n",
    "\n",
    "Calls can be loaded from a vcf file supporting formats in the style of [lumpy](https://github.com/arq5x/lumpy-sv), [delly](https://github.com/dellytools/delly), [gridss](https://github.com/PapenfussLab/gridss), [tiddit](https://github.com/SciLifeLab/TIDDIT), or dysgu.\n",
    "Or calls can be loaded from a .tsv or .csv file, but column information may need to be supplied using `break_cols` argument e.g. `break_cols=\"chrom,start,chrom2,end\"`.\n",
    "\n",
    "The `name` convention for query calls is a tuple `(caller_name, reference_calls)`"
   ]
  },
  {
   "cell_type": "code",
   "execution_count": 4,
   "metadata": {},
   "outputs": [
    {
     "name": "stdout",
     "output_type": "stream",
     "text": [
      "('delly', 'NA12878') loaded rows 33815\n",
      "('dysgu', 'NA12878') loaded rows 68856\n",
      "('tiddit', 'NA12878') loaded rows 15462\n",
      "('lumpy', 'NA12878') loaded rows 36595\n"
     ]
    }
   ],
   "source": [
    "import io_tools\n",
    "\n",
    "query_data = dict()\n",
    "\n",
    "# Load delly calls\n",
    "query_data = io_tools.load_vcf(\"../benchmark_ngs/NA12878.delly.bwa.mapq0.vcf\", name=(\"delly\", \"NA12878\"),\n",
    "                               data=query_data, weight_field=\"PE\", allowed_svtypes=\"DEL,DUP,INV\")\n",
    "\n",
    "# Load dysgu calls .csv format\n",
    "query_data = io_tools.load_csv(\"../benchmark_ngs/NA12878.bwa.bamreads_fast.dysgu19.merged.csv\", name=(\"dysgu\", \"NA12878\"),\n",
    "                               data=query_data, weight_field=\"pe\", allowed_svtypes=\"DEL,DUP,INV\")\n",
    "\n",
    "# Load tiddit calls\n",
    "query_data = io_tools.load_vcf(\"../benchmark_ngs/NA12878.tiddit.bwa.mapq0.vcf\", name=(\"tiddit\", \"NA12878\"),\n",
    "                               data=query_data, weight_field=\"LTE\", allowed_svtypes=\"DEL,DUP,INV,TDUP\")\n",
    "\n",
    "# Load lumpy calls\n",
    "query_data = io_tools.load_vcf(\"../benchmark_ngs/NA12878.lumpy.bwa.mapq20.vcf\", name=(\"lumpy\", \"NA12878\"),\n",
    "                               data=query_data, weight_field=\"SU\", allowed_svtypes=\"DEL,DUP,INV\")"
   ]
  },
  {
   "cell_type": "markdown",
   "metadata": {},
   "source": [
    "`query_data` takes the form:\n",
    "```python\n",
    "query_data = {('lumpy', 'HG002'):  {'tree': None, 'bedpe': pandas_dataframe}, ... }\n",
    "```\n",
    "\n",
    "The `weight_field` argument is used for breaking potential duplicate True Positive calls that match a reference call - if one or more query calls match a reference call, the query call with the maximum weight is chosen as the True Positive, whilst others are marked as Duplicate True Positives. If two calls have the same weight, the call with the smallest absolute breakpoint distance is used."
   ]
  },
  {
   "cell_type": "markdown",
   "metadata": {},
   "source": [
    "## Score query calls against reference\n",
    "\n"
   ]
  },
  {
   "cell_type": "code",
   "execution_count": 5,
   "metadata": {},
   "outputs": [
    {
     "name": "stdout",
     "output_type": "stream",
     "text": [
      "Scoring delly against NA12878\n",
      "Total calls: 33815\n",
      "Duplicate True Positives (DTP): 212\n",
      "True Positives (TP): 1355\n",
      "False Positives (FP = Total - TP - DTP): 32248\n",
      "False Negatives (FN): 1321\n",
      "---------------------------------------------\n",
      "Scoring dysgu against NA12878\n",
      "Total calls: 68856\n",
      "Duplicate True Positives (DTP): 14\n",
      "True Positives (TP): 2172\n",
      "False Positives (FP = Total - TP - DTP): 66670\n",
      "False Negatives (FN): 504\n",
      "---------------------------------------------\n",
      "Scoring tiddit against NA12878\n",
      "Total calls: 15462\n",
      "Duplicate True Positives (DTP): 1\n",
      "True Positives (TP): 1590\n",
      "False Positives (FP = Total - TP - DTP): 13871\n",
      "False Negatives (FN): 1086\n",
      "---------------------------------------------\n",
      "Scoring lumpy against NA12878\n",
      "Total calls: 36595\n",
      "Duplicate True Positives (DTP): 3\n",
      "True Positives (TP): 2134\n",
      "False Positives (FP = Total - TP - DTP): 34458\n",
      "False Negatives (FN): 542\n",
      "---------------------------------------------\n"
     ]
    }
   ],
   "source": [
    "import quant_tools\n",
    "\n",
    "query_data = quant_tools.score(ref_data, query_data)"
   ]
  },
  {
   "cell_type": "markdown",
   "metadata": {},
   "source": [
    "For each key in `query_data`, a summary scores table is created:\n",
    "```python\n",
    "query_data = {('lumpy', 'NA12878') : {'scores' : {'TP': 2134, 'FN': 542, ...},\n",
    "                                      'bedpe': pandas_dataframe, \n",
    "                                      'FN_indexes': set([indexes])...} ...}\n",
    "```\n",
    "The bedpe table has additional columns added `FP`, `TP` and `DTP`, with values `True` or `False`, and `ref_index` which holds the index into ref_data\n",
    "\n",
    "Also FN events can be found in `query_data[key]['FN_indexes']`, this provides a set of indexes into ref_data where False Negative calls can be assessed.\n"
   ]
  },
  {
   "cell_type": "markdown",
   "metadata": {},
   "source": [
    "## Plotting data\n",
    "Next generate simple plots for the query calls"
   ]
  },
  {
   "cell_type": "code",
   "execution_count": 5,
   "metadata": {},
   "outputs": [
    {
     "data": {
      "image/png": "[encoded data removed]",
      "text/plain": [
       "<Figure size 360x288 with 1 Axes>"
      ]
     },
     "metadata": {
      "needs_background": "light"
     },
     "output_type": "display_data"
    }
   ],
   "source": [
    "plots = quant_tools.plot(query_data, x=\"TP\", y=\"Precision\")"
   ]
  },
  {
   "cell_type": "markdown",
   "metadata": {},
   "source": [
    "The `plot` function returns a `dict` with keys corresponding to the reference dataset and values are matplotlib.pyplot objects:\n",
    "```python\n",
    "plots = {'NA12878': matplotlib.pyplot, ...}\n",
    "```\n",
    "This allows further customization of plots if needs be before saving with `plots['NA12878'].savefig(\"example.pdf\")`"
   ]
  },
  {
   "cell_type": "markdown",
   "metadata": {},
   "source": [
    "## Filtering and stratifying calls\n",
    "\n",
    "Input calls often need to be filtered before further analysis. Calls are usually hard-filtered using the FILTER column e.g. keeping calls with a 'PASS' label. Calls can further be stratified using an additional column, for example by a quality value or using the number of supporting reads. Filters and stratification can be performed in SVBench as data is loaded, although this can be slightly arduous as vcf's can be formatted in several ways. Also one has to pay attention to how parsing instructions are outlined in the vcf header, as this can influence how the vcf is parsed. Examples are given below."
   ]
  },
  {
   "cell_type": "code",
   "execution_count": 6,
   "metadata": {},
   "outputs": [
    {
     "name": "stdout",
     "output_type": "stream",
     "text": [
      "('delly', 'NA12878') loaded rows 2440\n"
     ]
    }
   ],
   "source": [
    "import io_tools\n",
    "\n",
    "query_data = dict()\n",
    "\n",
    "# Limit calls to target chromosomes only\n",
    "target_chroms = set([\"chr\" + str(i) for i in range(1, 23)] + [\"chrX\", \"chrY\"])\n",
    "\n",
    "# Load delly calls\n",
    "query_data = io_tools.load_vcf(\"../benchmark_ngs/NA12878.delly.bwa.mapq0.vcf\",\n",
    "                               name=(\"delly\", \"NA12878\"), data=query_data, weight_field=\"PE\",\n",
    "                               allowed_chroms=target_chroms,\n",
    "                               keep=[(\"FORMAT\", \"FT\", \"eq\", \"PASS\"), (\"INFO\", \"MAPQ\", \"gt\", \"20\")],\n",
    "                               stratify=(\"FORMAT\", \"DV\", range(0, 60, 5)),\n",
    "                               size_range=(50, None))"
   ]
  },
  {
   "cell_type": "markdown",
   "metadata": {},
   "source": [
    "The `keep` argument can take a `list` detailing a succession of filtering steps, which are each described in a `tuple` format. The tuple can be of length 3 or 4. As an example:  \n",
    "```python\n",
    "keep = [(\"FORMAT\", \"FT\", \"eq\", \"PASS\"), ...]\n",
    "```\n",
    "This step will look in the \"FORMAT\" column, select the \"FT\" value (filter) and test it with the equality (\"eq\") operator against the string \"PASS\". Any operator can be used from the python [Operator](https://docs.python.org/3/library/operator.html) module, for example le - less or equal, lt - less than etc. Only if all steps in `keep` return a `True` value will the record be kept. \n",
    "\n",
    "Note, numerical values are parsed to a `float` before comparison. Occationally values will parse to a `list`, if this is the case then the first value of the list is used for comparison. Finally, an empty list will sometimes be parsed (see tiddit exmaple below), and will take the value of `None` in comparison operations.\n",
    "\n",
    "```python\n",
    "stratify=(\"FORMAT\", \"DV\", range(0, 60, 5)\n",
    "```\n",
    "The `stratify` argument is a tuple or length 2 or 3, detailing the desired column to stratify the data by. The example above will stratify data by `'SU'` or support, in the range 0 to 50, with a step of 5. The third value of the tuple can be any numeric iterable for example `np.linspace` also works. \n",
    "\n",
    "```python\n",
    "size_range=(50, None)\n",
    "```\n",
    "The minimum or maximum size of intra-chromosomal SVs can be controlled with `size_range` argument. Here we are ensuring SVs less than 50bp are filtered out, and there is no maximum size indicated with `None`. "
   ]
  },
  {
   "cell_type": "code",
   "execution_count": 7,
   "metadata": {},
   "outputs": [
    {
     "name": "stdout",
     "output_type": "stream",
     "text": [
      "('tiddit', 'NA12878') loaded rows 1809\n",
      "('lumpy', 'NA12878') loaded rows 3926\n"
     ]
    }
   ],
   "source": [
    "# Load tiddit calls, note 'PASS' is parsed as None because it is not defined in the vcf FILTER column header\n",
    "query_data = io_tools.load_vcf(\"../benchmark_ngs/NA12878.tiddit.bwa.mapq0.vcf\", name=(\"tiddit\", \"NA12878\"),\n",
    "                               data=query_data, weight_field=\"LTE\",\n",
    "                               allowed_chroms=target_chroms,\n",
    "                               keep=[(\"FILTER\", \"eq\", None)],\n",
    "                               stratify=(\"INFO\", \"LTE\", range(0, 60, 5)),\n",
    "                               size_range=(50, None))\n",
    "\n",
    "# Load lumpy calls\n",
    "query_data = io_tools.load_vcf(\"../benchmark_ngs/NA12878.lumpy.bwa.mapq20.vcf\",\n",
    "                               name=(\"lumpy\", \"NA12878\"), data=query_data, weight_field=\"SU\",\n",
    "                               allowed_chroms=target_chroms,\n",
    "                               keep=[(\"INFO\", \"SU\", \"gt\", 3)],\n",
    "                               stratify=(\"INFO\", \"SU\", range(0, 60, 5)),\n",
    "                               size_range=(50, None))"
   ]
  },
  {
   "cell_type": "code",
   "execution_count": 8,
   "metadata": {},
   "outputs": [
    {
     "name": "stdout",
     "output_type": "stream",
     "text": [
      "Scoring delly against NA12878\n",
      "Total calls: 2440\n",
      "Duplicate True Positives (DTP): 0\n",
      "True Positives (TP): 671\n",
      "False Positives (FP = Total - TP - DTP): 1769\n",
      "False Negatives (FN): 2005\n",
      "---------------------------------------------\n",
      "Scoring tiddit against NA12878\n",
      "Total calls: 1809\n",
      "Duplicate True Positives (DTP): 0\n",
      "True Positives (TP): 1498\n",
      "False Positives (FP = Total - TP - DTP): 311\n",
      "False Negatives (FN): 1178\n",
      "---------------------------------------------\n",
      "Scoring lumpy against NA12878\n",
      "Total calls: 3926\n",
      "Duplicate True Positives (DTP): 0\n",
      "True Positives (TP): 2077\n",
      "False Positives (FP = Total - TP - DTP): 1849\n",
      "False Negatives (FN): 599\n",
      "---------------------------------------------\n"
     ]
    }
   ],
   "source": [
    "import quant_tools\n",
    "\n",
    "query_data = quant_tools.score(ref_data, query_data)"
   ]
  },
  {
   "cell_type": "code",
   "execution_count": 9,
   "metadata": {},
   "outputs": [
    {
     "data": {
      "image/png": "[encoded data removed]",
      "text/plain": [
       "<Figure size 504x288 with 1 Axes>"
      ]
     },
     "metadata": {
      "needs_background": "light"
     },
     "output_type": "display_data"
    }
   ],
   "source": [
    "plots = quant_tools.plot(query_data, x=\"TP\", y=\"Precision\")"
   ]
  },
  {
   "cell_type": "markdown",
   "metadata": {},
   "source": [
    "## Calibrating calls with ML"
   ]
  },
  {
   "cell_type": "markdown",
   "metadata": {},
   "source": [
    "Additional information can be scraped from input files, and these can be used as features to train a classifier using the reference calls as training data. For each parameter in the input file that you want to assess, SVBench must be given instructins on how to process it. This is achived by providing parse instructions during loading of the data. "
   ]
  },
  {
   "cell_type": "code",
   "execution_count": null,
   "metadata": {},
   "outputs": [],
   "source": [
    "parse_model = {}\n"
   ]
  }
 ],
 "metadata": {
  "kernelspec": {
   "display_name": "Python 3",
   "language": "python",
   "name": "python3"
  },
  "language_info": {
   "codemirror_mode": {
    "name": "ipython",
    "version": 3
   },
   "file_extension": ".py",
   "mimetype": "text/x-python",
   "name": "python",
   "nbconvert_exporter": "python",
   "pygments_lexer": "ipython3",
   "version": "3.7.3"
  }
 },
 "nbformat": 4,
 "nbformat_minor": 2
}
