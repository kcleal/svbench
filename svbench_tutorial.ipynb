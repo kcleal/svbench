{
 "cells": [
  {
   "cell_type": "markdown",
   "metadata": {},
   "source": [
    "# SVBench\n",
    "\n",
    "## Load reference calls\n",
    "\n",
    "This notebook will demonstrate how svbench can be used to benchmark SV calls using the HG002 sample.\n",
    "We will use a reference call set from GIAB: [HG002](ftp://ftp-trace.ncbi.nlm.nih.gov/giab/ftp/data/AshkenazimTrio/analysis/NIST_SVs_Integration_v0.6/HG002_SVs_Tier1_v0.6.vcf.gz)\n",
    "We will analyse qurty calls made using the variant callers dysgu, manta and delly. These callers were run on the HG002 sample sequenced using Illumina 148bp paired-end reads at 40X coverage. \n",
    "For convenience, we will utilize an input folder `\"../svbench_demo\"` and place reference and query SV calls there. \n",
    "\n",
    "The first step is to load the reference calls into a CallSet object. CallSet objects are labelled with a dataset name, in this case \"HG002\". The load_vcf function parses the reference file using the pyvcf library and stores the result in a pandas dataframe. Input columns of interest can be selectively parsed, in this example we are selecting to keep the \"FILTER\" column from the input file. The 'other_cols' parameter can take a list of columns to parse from the input file. These can be specified in string format, or using svb.Col object (more on this below). If you want all the data in the vcf file to be parsed into the dataframe, `other_cols=\"all\"` can be used."
   ]
  },
  {
   "cell_type": "code",
   "execution_count": 20,
   "metadata": {},
   "outputs": [
    {
     "name": "stderr",
     "output_type": "stream",
     "text": [
      "dataset=HG002, caller=None, loaded rows: 74012\n",
      "columns: ['chrom', 'start', 'chrom2', 'end', 'svtype', 'w', 'id', 'size_filter_pass', 'svlen', 'GT', 'FILTER']\n",
      "n not in include: 0\n"
     ]
    }
   ],
   "source": [
    "import svbench as svb\n",
    "from svbench import CallSet, Col\n",
    "import pandas as pd\n",
    "\n",
    "\n",
    "# Input is in vcf format, but bed and bedpe are also possible\n",
    "hg002 = CallSet(dataset=\"HG002\").\\\n",
    "            load_vcf(\"../svbench_demo/HG002_SVs_Tier1_v0.6.vcf.gz\", other_cols=[\"FILTER\"])\n",
    "\n"
   ]
  },
  {
   "cell_type": "markdown",
   "metadata": {},
   "source": [
    "The pandas dataframe can be accessed using the 'breaks_df' attribute, for example:"
   ]
  },
  {
   "cell_type": "code",
   "execution_count": 2,
   "metadata": {},
   "outputs": [
    {
     "data": {
      "text/html": [
       "<div>\n",
       "<style scoped>\n",
       "    .dataframe tbody tr th:only-of-type {\n",
       "        vertical-align: middle;\n",
       "    }\n",
       "\n",
       "    .dataframe tbody tr th {\n",
       "        vertical-align: top;\n",
       "    }\n",
       "\n",
       "    .dataframe thead th {\n",
       "        text-align: right;\n",
       "    }\n",
       "</style>\n",
       "<table border=\"1\" class=\"dataframe\">\n",
       "  <thead>\n",
       "    <tr style=\"text-align: right;\">\n",
       "      <th></th>\n",
       "      <th>chrom</th>\n",
       "      <th>start</th>\n",
       "      <th>chrom2</th>\n",
       "      <th>end</th>\n",
       "      <th>svtype</th>\n",
       "      <th>w</th>\n",
       "      <th>id</th>\n",
       "      <th>size_filter_pass</th>\n",
       "      <th>svlen</th>\n",
       "      <th>GT</th>\n",
       "      <th>FILTER</th>\n",
       "    </tr>\n",
       "  </thead>\n",
       "  <tbody>\n",
       "    <tr>\n",
       "      <th>0</th>\n",
       "      <td>chr1</td>\n",
       "      <td>10403</td>\n",
       "      <td>chr1</td>\n",
       "      <td>10440</td>\n",
       "      <td>DEL</td>\n",
       "      <td>None</td>\n",
       "      <td>HG2_Ill_svaba_2</td>\n",
       "      <td>True</td>\n",
       "      <td>37</td>\n",
       "      <td>./.</td>\n",
       "      <td>[LongReadHomRef]</td>\n",
       "    </tr>\n",
       "    <tr>\n",
       "      <th>1</th>\n",
       "      <td>chr1</td>\n",
       "      <td>10415</td>\n",
       "      <td>chr1</td>\n",
       "      <td>10440</td>\n",
       "      <td>DEL</td>\n",
       "      <td>None</td>\n",
       "      <td>HG3_Ill_GATKHC_3</td>\n",
       "      <td>True</td>\n",
       "      <td>25</td>\n",
       "      <td>./.</td>\n",
       "      <td>[LongReadHomRef]</td>\n",
       "    </tr>\n",
       "    <tr>\n",
       "      <th>2</th>\n",
       "      <td>chr1</td>\n",
       "      <td>10616</td>\n",
       "      <td>chr1</td>\n",
       "      <td>10637</td>\n",
       "      <td>DEL</td>\n",
       "      <td>None</td>\n",
       "      <td>HG4_Ill_GATKHC_3</td>\n",
       "      <td>True</td>\n",
       "      <td>21</td>\n",
       "      <td>./.</td>\n",
       "      <td>[NoConsensusGT]</td>\n",
       "    </tr>\n",
       "    <tr>\n",
       "      <th>3</th>\n",
       "      <td>chr1</td>\n",
       "      <td>54712</td>\n",
       "      <td>chr1</td>\n",
       "      <td>54712</td>\n",
       "      <td>INS</td>\n",
       "      <td>None</td>\n",
       "      <td>HG2_Ill_250bpfermikitraw_2</td>\n",
       "      <td>True</td>\n",
       "      <td>53</td>\n",
       "      <td>./.</td>\n",
       "      <td>[NoConsensusGT]</td>\n",
       "    </tr>\n",
       "    <tr>\n",
       "      <th>4</th>\n",
       "      <td>chr1</td>\n",
       "      <td>385977</td>\n",
       "      <td>chr1</td>\n",
       "      <td>385977</td>\n",
       "      <td>INS</td>\n",
       "      <td>None</td>\n",
       "      <td>HG2_PB_PB10Xdip_2154</td>\n",
       "      <td>True</td>\n",
       "      <td>74</td>\n",
       "      <td>./.</td>\n",
       "      <td>[NoConsensusGT]</td>\n",
       "    </tr>\n",
       "  </tbody>\n",
       "</table>\n",
       "</div>"
      ],
      "text/plain": [
       "  chrom   start chrom2     end svtype     w                          id  \\\n",
       "0  chr1   10403   chr1   10440    DEL  None             HG2_Ill_svaba_2   \n",
       "1  chr1   10415   chr1   10440    DEL  None            HG3_Ill_GATKHC_3   \n",
       "2  chr1   10616   chr1   10637    DEL  None            HG4_Ill_GATKHC_3   \n",
       "3  chr1   54712   chr1   54712    INS  None  HG2_Ill_250bpfermikitraw_2   \n",
       "4  chr1  385977   chr1  385977    INS  None        HG2_PB_PB10Xdip_2154   \n",
       "\n",
       "   size_filter_pass  svlen   GT            FILTER  \n",
       "0              True     37  ./.  [LongReadHomRef]  \n",
       "1              True     25  ./.  [LongReadHomRef]  \n",
       "2              True     21  ./.   [NoConsensusGT]  \n",
       "3              True     53  ./.   [NoConsensusGT]  \n",
       "4              True     74  ./.   [NoConsensusGT]  "
      ]
     },
     "execution_count": 2,
     "metadata": {},
     "output_type": "execute_result"
    }
   ],
   "source": [
    "hg002.breaks_df.head()"
   ]
  },
  {
   "cell_type": "markdown",
   "metadata": {},
   "source": [
    "As a side note, svbench `CallSet` objects are pickle friendly, which can save time when parsing input files: "
   ]
  },
  {
   "cell_type": "code",
   "execution_count": 5,
   "metadata": {},
   "outputs": [
    {
     "name": "stderr",
     "output_type": "stream",
     "text": [
      "dataset=HG002, caller=None, loaded rows: 74012\n",
      "columns: ['chrom', 'start', 'chrom2', 'end', 'svtype', 'w', 'id', 'size_filter_pass', 'svlen', 'GT', 'FILTER']\n",
      "n not in include: 0\n"
     ]
    },
    {
     "name": "stdout",
     "output_type": "stream",
     "text": [
      "14.270062685012817\n",
      "0.28818583488464355\n"
     ]
    }
   ],
   "source": [
    "import pickle\n",
    "import time\n",
    "\n",
    "t0 = time.time()\n",
    "hg002 = CallSet(dataset=\"HG002\").\\\n",
    "            load_vcf(\"../svbench_demo/HG002_SVs_Tier1_v0.6.vcf.gz\", other_cols=[\"FILTER\"])\n",
    "print(time.time() - t0)\n",
    "\n",
    "pickle.dump(hg002, open(\"../svbench_demo/hg002.pkl\", \"wb\"))\n",
    "\n",
    "t0 = time.time()\n",
    "hg002 = pickle.load(open(\"../svbench_demo/hg002.pkl\", \"rb\"))\n",
    "print(time.time() - t0)"
   ]
  },
  {
   "cell_type": "markdown",
   "metadata": {},
   "source": [
    "The HG002 reference set can be split into different tiers, with Tier1 calls representing the highest quality/most confident genomic regions. In this example we will select the\n",
    "Tier1+2 regions using the bed file provided by GIAB [link is here](ftp://ftp-trace.ncbi.nlm.nih.gov/giab/ftp/data/AshkenazimTrio/analysis/NIST_SVs_Integration_v0.6/HG002_SVs_Tier1plusTier2_v0.6.1.bed)"
   ]
  },
  {
   "cell_type": "markdown",
   "metadata": {},
   "source": [
    "The reference calls can be filtered using the `filter_include_bed` function:"
   ]
  },
  {
   "cell_type": "code",
   "execution_count": 6,
   "metadata": {},
   "outputs": [
    {
     "name": "stderr",
     "output_type": "stream",
     "text": [
      "dataset=None, caller=None, loaded rows: 23901\n",
      "Filtered by include_bed, caller=None, dataset=HG002 rows before 74012, after 40742\n"
     ]
    }
   ],
   "source": [
    "tier1_2 = hg002.filter_include_bed(\"../svbench_demo/HG002_SVs_Tier1plusTier2_v0.6.1.bed\")"
   ]
  },
  {
   "cell_type": "markdown",
   "metadata": {},
   "source": [
    "Finally we will add intervals around each break point, this is needed when comparing query calls to this reference set. Here we add 250 bp intervals around each break point. Also note, adding intervals should only be done once all filtering steps have been performed, as filtering can invalidate the added intervals:"
   ]
  },
  {
   "cell_type": "code",
   "execution_count": 7,
   "metadata": {},
   "outputs": [],
   "source": [
    "tier1_2 = tier1_2.add_intervals(slop=250)"
   ]
  },
  {
   "cell_type": "markdown",
   "metadata": {},
   "source": [
    "## Load query calls\n",
    "\n",
    "Next we will load calls made using dysgu, manta and delly. For convenience there are loading functions for some of the popular structural variant callers. However, query vcf files are parsed in the same way as the reference calls, so a custom loading function can also be written:"
   ]
  },
  {
   "cell_type": "code",
   "execution_count": 22,
   "metadata": {},
   "outputs": [
    {
     "name": "stderr",
     "output_type": "stream",
     "text": [
      "Loading dysgu, stratified using svbench.Col(add=None col=FORMAT, key=PROB, encoding=None, bins=[0.    0.025 0.05  0.075 0.1   0.125 0.15  0.175 0.2   0.225 0.25  0.275\n",
      " 0.3   0.325 0.35  0.375 0.4   0.425 0.45  0.475 0.5   0.525 0.55  0.575\n",
      " 0.6   0.625 0.65  0.675 0.7   0.725 0.75  0.775 0.8   0.825 0.85  0.875\n",
      " 0.9   0.925 0.95  0.975 1.   ], norm=None, op=None, thresh=None), keep records with svbench.Col(add=None col=FILTER, key=None, encoding=None, bins=None, norm=None, op=eq, thresh=None)\n",
      "dataset=HG002, caller=dysgu, loaded rows: 17878\n",
      "columns: ['chrom', 'start', 'chrom2', 'end', 'svtype', 'w', 'strata', 'id', 'size_filter_pass', 'svlen', 'GT']\n",
      "n not in include: 0\n",
      "Loading manta, stratified using svbench.Col(add=None col=QUAL, key=None, encoding=None, bins=range(0, 1500, 50), norm=None, op=None, thresh=None), keep records with svbench.Col(add=None col=FILTER, key=None, encoding=None, bins=None, norm=None, op=eq, thresh=None)\n",
      "dataset=HG002, caller=manta, loaded rows: 8436\n",
      "columns: ['chrom', 'start', 'chrom2', 'end', 'svtype', 'w', 'strata', 'id', 'size_filter_pass', 'svlen', 'GT']\n",
      "n not in include: 0\n",
      "Loading delly, stratified using svbench.Col(add=None col=QUAL, key=None, encoding=None, bins=range(0, 1500, 50), norm=None, op=None, thresh=None), keep records with svbench.Col(add=None col=FILTER, key=None, encoding=None, bins=None, norm=None, op=eq, thresh=None)\n",
      "dataset=HG002, caller=delly, loaded rows: 14498\n",
      "columns: ['chrom', 'start', 'chrom2', 'end', 'svtype', 'w', 'strata', 'id', 'size_filter_pass', 'svlen', 'GT']\n",
      "n not in include: 0\n"
     ]
    }
   ],
   "source": [
    "from svbench import load_dysgu, load_manta, load_delly\n",
    "\n",
    "dysgu = load_dysgu(\"../svbench_demo/HG002.dysgu.v1.2.6.vcf\", dataset=\"HG002\")\n",
    "manta = load_manta(\"../svbench_demo/HG002.manta.diploidSV.vcf\", dataset=\"HG002\")\n",
    "delly = load_delly(\"../svbench_demo/HG002.delly.vcf\", dataset=\"HG002\")"
   ]
  },
  {
   "cell_type": "markdown",
   "metadata": {},
   "source": [
    "### Manually loading a vcf file\n",
    "To demonstrate how the default loading options can be changed, or to load a new file from a novel caller, we will re-load the calls from delly using the `load_vcf` function:"
   ]
  },
  {
   "cell_type": "code",
   "execution_count": 9,
   "metadata": {},
   "outputs": [
    {
     "name": "stderr",
     "output_type": "stream",
     "text": [
      "dataset=HG002, caller=delly_DP, loaded rows: 14498\n",
      "columns: ['chrom', 'start', 'chrom2', 'end', 'svtype', 'w', 'strata', 'id', 'size_filter_pass', 'svlen', 'GT']\n",
      "n not in include: 0\n"
     ]
    }
   ],
   "source": [
    "\n",
    "delly_v2 = CallSet(dataset=\"HG002\", caller=\"delly_DP\").\\\n",
    "            load_vcf(\"../svbench_demo/HG002.delly.vcf\",\n",
    "                     stratify=Col(\"FORMAT\", \"DP\", bins=range(0, 100, 2)),\n",
    "                     keep=[Col(\"FILTER\", op=\"eq\", thresh=None)])"
   ]
  },
  {
   "cell_type": "markdown",
   "metadata": {},
   "source": [
    "The main difference compared with loading the reference calls, is that `stratify` and `keep` arguments are used. The `stratify` argument tells svbench how to bin variants into different strata which is needed for plotting a precison-recall curve. This is achived by using a `Col` object:"
   ]
  },
  {
   "cell_type": "code",
   "execution_count": 7,
   "metadata": {},
   "outputs": [
    {
     "data": {
      "text/plain": [
       "svbench.Col(add=None col=FORMAT, key=DP, encoding=None, bins=range(0, 100, 2), norm=None, op=None, thresh=None)"
      ]
     },
     "execution_count": 7,
     "metadata": {},
     "output_type": "execute_result"
    }
   ],
   "source": [
    "Col(\"FORMAT\", \"DP\", bins=range(0, 100, 2))"
   ]
  },
  {
   "cell_type": "markdown",
   "metadata": {},
   "source": [
    "This specifies that in the `\"FORMAT\"` field, the `\"DP\"` column will be used, and the bin values will be `bins=range(0, 100, 2))`. Likewise input calls are also filtered during loading by using the `keep` argument:"
   ]
  },
  {
   "cell_type": "code",
   "execution_count": 8,
   "metadata": {},
   "outputs": [
    {
     "data": {
      "text/plain": [
       "svbench.Col(add=None col=FILTER, key=None, encoding=None, bins=None, norm=None, op=eq, thresh=None)"
      ]
     },
     "execution_count": 8,
     "metadata": {},
     "output_type": "execute_result"
    }
   ],
   "source": [
    "Col(\"FILTER\", op=\"eq\", thresh=None)"
   ]
  },
  {
   "cell_type": "markdown",
   "metadata": {},
   "source": [
    "Here only records without a filter applied will be loaded. The `op=\"eq\"` argument will apply a test of equality with `thresh=None`. For example, another option might be to filter calls with `DP` > 3 reads, this could be achived using `keep=Col(\"FORMAT\", \"DP\", op=\"gt\", thresh=3)` "
   ]
  },
  {
   "cell_type": "markdown",
   "metadata": {},
   "source": [
    "## Manually filtering a CallSet \n",
    "Vcf records are converted to a pandas DataFrame internally. The DataFrame can be accessed using:"
   ]
  },
  {
   "cell_type": "code",
   "execution_count": 10,
   "metadata": {},
   "outputs": [
    {
     "data": {
      "text/html": [
       "<div>\n",
       "<style scoped>\n",
       "    .dataframe tbody tr th:only-of-type {\n",
       "        vertical-align: middle;\n",
       "    }\n",
       "\n",
       "    .dataframe tbody tr th {\n",
       "        vertical-align: top;\n",
       "    }\n",
       "\n",
       "    .dataframe thead th {\n",
       "        text-align: right;\n",
       "    }\n",
       "</style>\n",
       "<table border=\"1\" class=\"dataframe\">\n",
       "  <thead>\n",
       "    <tr style=\"text-align: right;\">\n",
       "      <th></th>\n",
       "      <th>chrom</th>\n",
       "      <th>start</th>\n",
       "      <th>chrom2</th>\n",
       "      <th>end</th>\n",
       "      <th>svtype</th>\n",
       "      <th>w</th>\n",
       "      <th>strata</th>\n",
       "      <th>id</th>\n",
       "      <th>size_filter_pass</th>\n",
       "      <th>svlen</th>\n",
       "      <th>GT</th>\n",
       "    </tr>\n",
       "  </thead>\n",
       "  <tbody>\n",
       "    <tr>\n",
       "      <th>0</th>\n",
       "      <td>chrM</td>\n",
       "      <td>2</td>\n",
       "      <td>chrM</td>\n",
       "      <td>16202</td>\n",
       "      <td>DUP</td>\n",
       "      <td>None</td>\n",
       "      <td>10000.0</td>\n",
       "      <td>DUP00000000</td>\n",
       "      <td>True</td>\n",
       "      <td>16200</td>\n",
       "      <td>0/1</td>\n",
       "    </tr>\n",
       "    <tr>\n",
       "      <th>1</th>\n",
       "      <td>chrM</td>\n",
       "      <td>10266</td>\n",
       "      <td>chrM</td>\n",
       "      <td>10649</td>\n",
       "      <td>INV</td>\n",
       "      <td>None</td>\n",
       "      <td>88.0</td>\n",
       "      <td>INV00000009</td>\n",
       "      <td>True</td>\n",
       "      <td>383</td>\n",
       "      <td>0/0</td>\n",
       "    </tr>\n",
       "    <tr>\n",
       "      <th>2</th>\n",
       "      <td>chrM</td>\n",
       "      <td>12868</td>\n",
       "      <td>chrM</td>\n",
       "      <td>14978</td>\n",
       "      <td>INV</td>\n",
       "      <td>None</td>\n",
       "      <td>544.0</td>\n",
       "      <td>INV00000012</td>\n",
       "      <td>True</td>\n",
       "      <td>2110</td>\n",
       "      <td>0/0</td>\n",
       "    </tr>\n",
       "    <tr>\n",
       "      <th>3</th>\n",
       "      <td>chrM</td>\n",
       "      <td>13442</td>\n",
       "      <td>chrM</td>\n",
       "      <td>15488</td>\n",
       "      <td>INV</td>\n",
       "      <td>None</td>\n",
       "      <td>161.0</td>\n",
       "      <td>INV00000013</td>\n",
       "      <td>True</td>\n",
       "      <td>2046</td>\n",
       "      <td>0/0</td>\n",
       "    </tr>\n",
       "    <tr>\n",
       "      <th>4</th>\n",
       "      <td>chrM</td>\n",
       "      <td>14300</td>\n",
       "      <td>chrM</td>\n",
       "      <td>14540</td>\n",
       "      <td>DEL</td>\n",
       "      <td>None</td>\n",
       "      <td>81.0</td>\n",
       "      <td>DEL00000014</td>\n",
       "      <td>True</td>\n",
       "      <td>240</td>\n",
       "      <td>0/0</td>\n",
       "    </tr>\n",
       "    <tr>\n",
       "      <th>...</th>\n",
       "      <td>...</td>\n",
       "      <td>...</td>\n",
       "      <td>...</td>\n",
       "      <td>...</td>\n",
       "      <td>...</td>\n",
       "      <td>...</td>\n",
       "      <td>...</td>\n",
       "      <td>...</td>\n",
       "      <td>...</td>\n",
       "      <td>...</td>\n",
       "      <td>...</td>\n",
       "    </tr>\n",
       "    <tr>\n",
       "      <th>14493</th>\n",
       "      <td>chrUn_gl000234</td>\n",
       "      <td>37525</td>\n",
       "      <td>chrUn_gl000234</td>\n",
       "      <td>37765</td>\n",
       "      <td>DEL</td>\n",
       "      <td>None</td>\n",
       "      <td>762.0</td>\n",
       "      <td>DEL00046232</td>\n",
       "      <td>True</td>\n",
       "      <td>240</td>\n",
       "      <td>0/1</td>\n",
       "    </tr>\n",
       "    <tr>\n",
       "      <th>14494</th>\n",
       "      <td>chrUn_gl000236</td>\n",
       "      <td>6330</td>\n",
       "      <td>chrUn_gl000236</td>\n",
       "      <td>6366</td>\n",
       "      <td>DEL</td>\n",
       "      <td>None</td>\n",
       "      <td>237.0</td>\n",
       "      <td>DEL00046248</td>\n",
       "      <td>True</td>\n",
       "      <td>36</td>\n",
       "      <td>0/1</td>\n",
       "    </tr>\n",
       "    <tr>\n",
       "      <th>14495</th>\n",
       "      <td>chrUn_gl000237</td>\n",
       "      <td>9046</td>\n",
       "      <td>chrUn_gl000237</td>\n",
       "      <td>9079</td>\n",
       "      <td>DEL</td>\n",
       "      <td>None</td>\n",
       "      <td>845.0</td>\n",
       "      <td>DEL00046257</td>\n",
       "      <td>True</td>\n",
       "      <td>33</td>\n",
       "      <td>0/1</td>\n",
       "    </tr>\n",
       "    <tr>\n",
       "      <th>14496</th>\n",
       "      <td>chrUn_gl000239</td>\n",
       "      <td>27550</td>\n",
       "      <td>chrUn_gl000239</td>\n",
       "      <td>27991</td>\n",
       "      <td>DUP</td>\n",
       "      <td>None</td>\n",
       "      <td>569.0</td>\n",
       "      <td>DUP00046262</td>\n",
       "      <td>True</td>\n",
       "      <td>441</td>\n",
       "      <td>0/0</td>\n",
       "    </tr>\n",
       "    <tr>\n",
       "      <th>14497</th>\n",
       "      <td>chrUn_gl000241</td>\n",
       "      <td>2465</td>\n",
       "      <td>chrUn_gl000241</td>\n",
       "      <td>2505</td>\n",
       "      <td>DEL</td>\n",
       "      <td>None</td>\n",
       "      <td>230.0</td>\n",
       "      <td>DEL00046271</td>\n",
       "      <td>True</td>\n",
       "      <td>40</td>\n",
       "      <td>0/1</td>\n",
       "    </tr>\n",
       "  </tbody>\n",
       "</table>\n",
       "<p>14498 rows × 11 columns</p>\n",
       "</div>"
      ],
      "text/plain": [
       "                chrom  start          chrom2    end svtype     w   strata  \\\n",
       "0                chrM      2            chrM  16202    DUP  None  10000.0   \n",
       "1                chrM  10266            chrM  10649    INV  None     88.0   \n",
       "2                chrM  12868            chrM  14978    INV  None    544.0   \n",
       "3                chrM  13442            chrM  15488    INV  None    161.0   \n",
       "4                chrM  14300            chrM  14540    DEL  None     81.0   \n",
       "...               ...    ...             ...    ...    ...   ...      ...   \n",
       "14493  chrUn_gl000234  37525  chrUn_gl000234  37765    DEL  None    762.0   \n",
       "14494  chrUn_gl000236   6330  chrUn_gl000236   6366    DEL  None    237.0   \n",
       "14495  chrUn_gl000237   9046  chrUn_gl000237   9079    DEL  None    845.0   \n",
       "14496  chrUn_gl000239  27550  chrUn_gl000239  27991    DUP  None    569.0   \n",
       "14497  chrUn_gl000241   2465  chrUn_gl000241   2505    DEL  None    230.0   \n",
       "\n",
       "                id  size_filter_pass  svlen   GT  \n",
       "0      DUP00000000              True  16200  0/1  \n",
       "1      INV00000009              True    383  0/0  \n",
       "2      INV00000012              True   2110  0/0  \n",
       "3      INV00000013              True   2046  0/0  \n",
       "4      DEL00000014              True    240  0/0  \n",
       "...            ...               ...    ...  ...  \n",
       "14493  DEL00046232              True    240  0/1  \n",
       "14494  DEL00046248              True     36  0/1  \n",
       "14495  DEL00046257              True     33  0/1  \n",
       "14496  DUP00046262              True    441  0/0  \n",
       "14497  DEL00046271              True     40  0/1  \n",
       "\n",
       "[14498 rows x 11 columns]"
      ]
     },
     "execution_count": 10,
     "metadata": {},
     "output_type": "execute_result"
    }
   ],
   "source": [
    "delly.breaks_df"
   ]
  },
  {
   "cell_type": "markdown",
   "metadata": {},
   "source": [
    "Svbench supports a thin wrapper around the pandas DataFrame [query](https://pandas.pydata.org/docs/reference/api/pandas.DataFrame.query.html) function. For example, we can filter for deletion calls > 300 bp:"
   ]
  },
  {
   "cell_type": "code",
   "execution_count": 11,
   "metadata": {},
   "outputs": [
    {
     "name": "stderr",
     "output_type": "stream",
     "text": [
      "Filtered by expression, caller=delly_DP, dataset=HG002 rows before 14498, after 3477\n"
     ]
    }
   ],
   "source": [
    "delly_v2 = delly_v2.query(\"svtype.str.match('DEL') and svlen>=300\")"
   ]
  },
  {
   "cell_type": "markdown",
   "metadata": {},
   "source": [
    "## Comparing query vs reference calls\n",
    "First we will put our query calls in a list. Then we will filter query calls that overlap Tier1+2 regions, as we did your the reference calls:"
   ]
  },
  {
   "cell_type": "code",
   "execution_count": 23,
   "metadata": {},
   "outputs": [
    {
     "name": "stderr",
     "output_type": "stream",
     "text": [
      "dataset=None, caller=None, loaded rows: 23901\n",
      "Filtered by include_bed, caller=dysgu, dataset=HG002 rows before 17878, after 10858\n",
      "dataset=None, caller=None, loaded rows: 23901\n",
      "Filtered by include_bed, caller=manta, dataset=HG002 rows before 8436, after 7390\n",
      "dataset=None, caller=None, loaded rows: 23901\n",
      "Filtered by include_bed, caller=delly, dataset=HG002 rows before 14498, after 6270\n"
     ]
    }
   ],
   "source": [
    "callers = [dysgu, manta, delly]\n",
    "callers_tier1_2 = [i.filter_include_bed(\"../svbench_demo/HG002_SVs_Tier1plusTier2_v0.6.1.bed\", inplace=False) \n",
    "           for i in callers]\n",
    "#for c in callers:\n",
    "#    c.filter_include_bed(\"../svbench_demo/HG002_SVs_Tier1plusTier2_v0.6.1.bed\", inplace=True)"
   ]
  },
  {
   "cell_type": "markdown",
   "metadata": {},
   "source": [
    "Next query calls are compared to a reference set using the `score` function. The `score` function can accept `CallSet`, or a `list` of `CallSet`, in the form `score(reference_calls, query_calls)`. The score function will print out summary statistics and result tables will also be appended to input query `CallSet`'s. Internally, the `score` function matches the `dataset` attributes of the reference and query calls. "
   ]
  },
  {
   "cell_type": "code",
   "execution_count": 24,
   "metadata": {},
   "outputs": [
    {
     "name": "stderr",
     "output_type": "stream",
     "text": [
      "Scoring dataset=HG002 caller=dysgu\n",
      "Score table caller=dysgu against dataset=HG002\n",
      "Scores:\n",
      "  Caller  T >=    Ref  Total    TP   FP  DTP     FN  Duplication  Precision  Recall      F1\n",
      "0  dysgu  None  40742  10858  9994  635  229  30748     0.022914     0.9403  0.2453  0.3891\n",
      "Scores over size ranges:\n",
      "  Caller    Ref size ranges    TP   FP     FN  Precision    Recall        F1\n",
      "0  dysgu           [30, 50)  1596   83   4590   0.950566  0.258002  0.405849\n",
      "1  dysgu          [50, 500)  6440  348  14032   0.948733  0.314576  0.472487\n",
      "2  dysgu        [500, 5000)  1290  187   3526   0.873392  0.267857  0.409979\n",
      "3  dysgu  [5000, 260000000)   164   17    352   0.906077  0.317829  0.470588\n",
      "4  dysgu         All ranges  9490  635  22500   0.937284  0.296655  0.450671\n",
      "GT scores:\n",
      "  Caller  GT_precision  GT_recall   GT_f1   0/1   1/1  0/0  ./.\n",
      "0  dysgu      0.517314   0.154462  0.2379  8117  2615  124    2\n",
      "---------------------------------------------\n",
      "Scoring dataset=HG002 caller=manta\n",
      "Score table caller=manta against dataset=HG002\n",
      "Scores:\n",
      "  Caller  T >=    Ref  Total    TP   FP  DTP     FN  Duplication  Precision  Recall      F1\n",
      "0  manta  None  40742   7390  6827  368  195  33915     0.028563     0.9489  0.1676  0.2849\n",
      "Scores over size ranges:\n",
      "  Caller    Ref size ranges    TP   FP     FN  Precision    Recall        F1\n",
      "0  manta           [30, 50)   174    6   6012   0.966667  0.028128  0.054665\n",
      "1  manta          [50, 500)  5468  136  15004   0.975732  0.267097  0.419389\n",
      "2  manta        [500, 5000)   848   95   3968   0.899258  0.176080  0.294496\n",
      "3  manta  [5000, 260000000)   182   56    334   0.764706  0.352713  0.482759\n",
      "4  manta         All ranges  6672  293  25318   0.957933  0.208565  0.342549\n",
      "GT scores:\n",
      "  Caller  GT_precision  GT_recall   GT_f1   1/1   0/1\n",
      "0  manta      0.776861    0.14477  0.2441  3483  3907\n",
      "---------------------------------------------\n",
      "Scoring dataset=HG002 caller=delly\n",
      "Score table caller=delly against dataset=HG002\n",
      "Scores:\n",
      "  Caller  T >=    Ref  Total    TP    FP  DTP     FN  Duplication  Precision  Recall     F1\n",
      "0  delly  None  40742   6270  4512  1720   38  36230     0.008422      0.724  0.1107  0.192\n",
      "Scores over size ranges:\n",
      "  Caller    Ref size ranges    TP    FP     FN  Precision    Recall        F1\n",
      "0  delly           [30, 50)   728    74   5458   0.907731  0.117685  0.208357\n",
      "1  delly          [50, 500)  2305   376  18167   0.859754  0.112593  0.199110\n",
      "2  delly        [500, 5000)   744   721   4072   0.507850  0.154485  0.236905\n",
      "3  delly  [5000, 260000000)   171   466    345   0.268446  0.331395  0.296618\n",
      "4  delly         All ranges  3948  1637  28042   0.706893  0.123414  0.210140\n",
      "GT scores:\n",
      "  Caller  GT_precision  GT_recall   GT_f1   0/1  0/0   1/1  ./.\n",
      "0  delly      0.516108   0.081995  0.1415  3682  630  1933   25\n",
      "---------------------------------------------\n"
     ]
    }
   ],
   "source": [
    "svb.score(tier1_2, callers_tier1_2)"
   ]
  },
  {
   "cell_type": "markdown",
   "metadata": {},
   "source": [
    "The results can be interrogated in a few ways. Each query callset will have a `scores`, `size_scores` and `gt_scores` attributes filled out, which are pandas `DataFrame` tables:"
   ]
  },
  {
   "cell_type": "code",
   "execution_count": 25,
   "metadata": {},
   "outputs": [
    {
     "data": {
      "text/html": [
       "<div>\n",
       "<style scoped>\n",
       "    .dataframe tbody tr th:only-of-type {\n",
       "        vertical-align: middle;\n",
       "    }\n",
       "\n",
       "    .dataframe tbody tr th {\n",
       "        vertical-align: top;\n",
       "    }\n",
       "\n",
       "    .dataframe thead th {\n",
       "        text-align: right;\n",
       "    }\n",
       "</style>\n",
       "<table border=\"1\" class=\"dataframe\">\n",
       "  <thead>\n",
       "    <tr style=\"text-align: right;\">\n",
       "      <th></th>\n",
       "      <th>Caller</th>\n",
       "      <th>T &gt;=</th>\n",
       "      <th>Ref</th>\n",
       "      <th>Total</th>\n",
       "      <th>TP</th>\n",
       "      <th>FP</th>\n",
       "      <th>DTP</th>\n",
       "      <th>FN</th>\n",
       "      <th>Duplication</th>\n",
       "      <th>Precision</th>\n",
       "      <th>Recall</th>\n",
       "      <th>F1</th>\n",
       "    </tr>\n",
       "  </thead>\n",
       "  <tbody>\n",
       "    <tr>\n",
       "      <th>0</th>\n",
       "      <td>dysgu</td>\n",
       "      <td>None</td>\n",
       "      <td>40742</td>\n",
       "      <td>10858</td>\n",
       "      <td>9994</td>\n",
       "      <td>635</td>\n",
       "      <td>229</td>\n",
       "      <td>30748</td>\n",
       "      <td>0.022914</td>\n",
       "      <td>0.9403</td>\n",
       "      <td>0.2453</td>\n",
       "      <td>0.3891</td>\n",
       "    </tr>\n",
       "  </tbody>\n",
       "</table>\n",
       "</div>"
      ],
      "text/plain": [
       "  Caller  T >=    Ref  Total    TP   FP  DTP     FN  Duplication  Precision  \\\n",
       "0  dysgu  None  40742  10858  9994  635  229  30748     0.022914     0.9403   \n",
       "\n",
       "   Recall      F1  \n",
       "0  0.2453  0.3891  "
      ]
     },
     "execution_count": 25,
     "metadata": {},
     "output_type": "execute_result"
    }
   ],
   "source": [
    "dysgu_res = callers_tier1_2[0]\n",
    "dysgu_res.scores"
   ]
  },
  {
   "cell_type": "code",
   "execution_count": 26,
   "metadata": {},
   "outputs": [
    {
     "data": {
      "text/html": [
       "<div>\n",
       "<style scoped>\n",
       "    .dataframe tbody tr th:only-of-type {\n",
       "        vertical-align: middle;\n",
       "    }\n",
       "\n",
       "    .dataframe tbody tr th {\n",
       "        vertical-align: top;\n",
       "    }\n",
       "\n",
       "    .dataframe thead th {\n",
       "        text-align: right;\n",
       "    }\n",
       "</style>\n",
       "<table border=\"1\" class=\"dataframe\">\n",
       "  <thead>\n",
       "    <tr style=\"text-align: right;\">\n",
       "      <th></th>\n",
       "      <th>Caller</th>\n",
       "      <th>T &gt;=</th>\n",
       "      <th>Ref</th>\n",
       "      <th>Total</th>\n",
       "      <th>TP</th>\n",
       "      <th>FP</th>\n",
       "      <th>DTP</th>\n",
       "      <th>FN</th>\n",
       "      <th>Duplication</th>\n",
       "      <th>Precision</th>\n",
       "      <th>Recall</th>\n",
       "      <th>F1</th>\n",
       "    </tr>\n",
       "  </thead>\n",
       "  <tbody>\n",
       "    <tr>\n",
       "      <th>0</th>\n",
       "      <td>dysgu</td>\n",
       "      <td>None</td>\n",
       "      <td>40742</td>\n",
       "      <td>10858</td>\n",
       "      <td>9994</td>\n",
       "      <td>635</td>\n",
       "      <td>229</td>\n",
       "      <td>30748</td>\n",
       "      <td>0.022914</td>\n",
       "      <td>0.9403</td>\n",
       "      <td>0.2453</td>\n",
       "      <td>0.3891</td>\n",
       "    </tr>\n",
       "    <tr>\n",
       "      <th>0</th>\n",
       "      <td>manta</td>\n",
       "      <td>None</td>\n",
       "      <td>40742</td>\n",
       "      <td>7390</td>\n",
       "      <td>6827</td>\n",
       "      <td>368</td>\n",
       "      <td>195</td>\n",
       "      <td>33915</td>\n",
       "      <td>0.028563</td>\n",
       "      <td>0.9489</td>\n",
       "      <td>0.1676</td>\n",
       "      <td>0.2849</td>\n",
       "    </tr>\n",
       "    <tr>\n",
       "      <th>0</th>\n",
       "      <td>delly</td>\n",
       "      <td>None</td>\n",
       "      <td>40742</td>\n",
       "      <td>6270</td>\n",
       "      <td>4512</td>\n",
       "      <td>1720</td>\n",
       "      <td>38</td>\n",
       "      <td>36230</td>\n",
       "      <td>0.008422</td>\n",
       "      <td>0.7240</td>\n",
       "      <td>0.1107</td>\n",
       "      <td>0.1920</td>\n",
       "    </tr>\n",
       "  </tbody>\n",
       "</table>\n",
       "</div>"
      ],
      "text/plain": [
       "  Caller  T >=    Ref  Total    TP    FP  DTP     FN  Duplication  Precision  \\\n",
       "0  dysgu  None  40742  10858  9994   635  229  30748     0.022914     0.9403   \n",
       "0  manta  None  40742   7390  6827   368  195  33915     0.028563     0.9489   \n",
       "0  delly  None  40742   6270  4512  1720   38  36230     0.008422     0.7240   \n",
       "\n",
       "   Recall      F1  \n",
       "0  0.2453  0.3891  \n",
       "0  0.1676  0.2849  \n",
       "0  0.1107  0.1920  "
      ]
     },
     "execution_count": 26,
     "metadata": {},
     "output_type": "execute_result"
    }
   ],
   "source": [
    "pd.concat([i.scores for i in callers_tier1_2])"
   ]
  },
  {
   "cell_type": "markdown",
   "metadata": {},
   "source": [
    "Alternatively records in the main DataFrame are labelled: "
   ]
  },
  {
   "cell_type": "code",
   "execution_count": 27,
   "metadata": {},
   "outputs": [
    {
     "data": {
      "text/html": [
       "<div>\n",
       "<style scoped>\n",
       "    .dataframe tbody tr th:only-of-type {\n",
       "        vertical-align: middle;\n",
       "    }\n",
       "\n",
       "    .dataframe tbody tr th {\n",
       "        vertical-align: top;\n",
       "    }\n",
       "\n",
       "    .dataframe thead th {\n",
       "        text-align: right;\n",
       "    }\n",
       "</style>\n",
       "<table border=\"1\" class=\"dataframe\">\n",
       "  <thead>\n",
       "    <tr style=\"text-align: right;\">\n",
       "      <th></th>\n",
       "      <th>chrom</th>\n",
       "      <th>start</th>\n",
       "      <th>chrom2</th>\n",
       "      <th>end</th>\n",
       "      <th>svtype</th>\n",
       "      <th>w</th>\n",
       "      <th>strata</th>\n",
       "      <th>id</th>\n",
       "      <th>size_filter_pass</th>\n",
       "      <th>svlen</th>\n",
       "      <th>GT</th>\n",
       "      <th>TP</th>\n",
       "      <th>DTP</th>\n",
       "      <th>ref_index</th>\n",
       "      <th>FP</th>\n",
       "      <th>ref_size</th>\n",
       "      <th>ref_GT</th>\n",
       "    </tr>\n",
       "  </thead>\n",
       "  <tbody>\n",
       "    <tr>\n",
       "      <th>0</th>\n",
       "      <td>chr1</td>\n",
       "      <td>54720</td>\n",
       "      <td>chr1</td>\n",
       "      <td>54720</td>\n",
       "      <td>INS</td>\n",
       "      <td>None</td>\n",
       "      <td>0.562</td>\n",
       "      <td>3</td>\n",
       "      <td>True</td>\n",
       "      <td>54</td>\n",
       "      <td>0/1</td>\n",
       "      <td>True</td>\n",
       "      <td>False</td>\n",
       "      <td>3.0</td>\n",
       "      <td>False</td>\n",
       "      <td>53.0</td>\n",
       "      <td>./.</td>\n",
       "    </tr>\n",
       "    <tr>\n",
       "      <th>1</th>\n",
       "      <td>chr1</td>\n",
       "      <td>66452</td>\n",
       "      <td>chr1</td>\n",
       "      <td>66452</td>\n",
       "      <td>INS</td>\n",
       "      <td>None</td>\n",
       "      <td>0.657</td>\n",
       "      <td>7</td>\n",
       "      <td>True</td>\n",
       "      <td>54</td>\n",
       "      <td>0/1</td>\n",
       "      <td>False</td>\n",
       "      <td>False</td>\n",
       "      <td>NaN</td>\n",
       "      <td>True</td>\n",
       "      <td>NaN</td>\n",
       "      <td>0/0</td>\n",
       "    </tr>\n",
       "    <tr>\n",
       "      <th>2</th>\n",
       "      <td>chr1</td>\n",
       "      <td>756259</td>\n",
       "      <td>chr1</td>\n",
       "      <td>756259</td>\n",
       "      <td>INS</td>\n",
       "      <td>None</td>\n",
       "      <td>0.692</td>\n",
       "      <td>32</td>\n",
       "      <td>True</td>\n",
       "      <td>434</td>\n",
       "      <td>0/1</td>\n",
       "      <td>True</td>\n",
       "      <td>False</td>\n",
       "      <td>10.0</td>\n",
       "      <td>False</td>\n",
       "      <td>244.0</td>\n",
       "      <td>./.</td>\n",
       "    </tr>\n",
       "    <tr>\n",
       "      <th>3</th>\n",
       "      <td>chr1</td>\n",
       "      <td>821604</td>\n",
       "      <td>chr1</td>\n",
       "      <td>821605</td>\n",
       "      <td>INS</td>\n",
       "      <td>None</td>\n",
       "      <td>0.609</td>\n",
       "      <td>46</td>\n",
       "      <td>True</td>\n",
       "      <td>30</td>\n",
       "      <td>0/1</td>\n",
       "      <td>True</td>\n",
       "      <td>False</td>\n",
       "      <td>17.0</td>\n",
       "      <td>False</td>\n",
       "      <td>30.0</td>\n",
       "      <td>./.</td>\n",
       "    </tr>\n",
       "    <tr>\n",
       "      <th>4</th>\n",
       "      <td>chr1</td>\n",
       "      <td>829171</td>\n",
       "      <td>chr1</td>\n",
       "      <td>829207</td>\n",
       "      <td>DEL</td>\n",
       "      <td>None</td>\n",
       "      <td>0.909</td>\n",
       "      <td>54</td>\n",
       "      <td>True</td>\n",
       "      <td>36</td>\n",
       "      <td>1/1</td>\n",
       "      <td>True</td>\n",
       "      <td>False</td>\n",
       "      <td>18.0</td>\n",
       "      <td>False</td>\n",
       "      <td>36.0</td>\n",
       "      <td>./.</td>\n",
       "    </tr>\n",
       "  </tbody>\n",
       "</table>\n",
       "</div>"
      ],
      "text/plain": [
       "  chrom   start chrom2     end svtype     w  strata  id  size_filter_pass  \\\n",
       "0  chr1   54720   chr1   54720    INS  None   0.562   3              True   \n",
       "1  chr1   66452   chr1   66452    INS  None   0.657   7              True   \n",
       "2  chr1  756259   chr1  756259    INS  None   0.692  32              True   \n",
       "3  chr1  821604   chr1  821605    INS  None   0.609  46              True   \n",
       "4  chr1  829171   chr1  829207    DEL  None   0.909  54              True   \n",
       "\n",
       "   svlen   GT     TP    DTP  ref_index     FP  ref_size ref_GT  \n",
       "0     54  0/1   True  False        3.0  False      53.0    ./.  \n",
       "1     54  0/1  False  False        NaN   True       NaN    0/0  \n",
       "2    434  0/1   True  False       10.0  False     244.0    ./.  \n",
       "3     30  0/1   True  False       17.0  False      30.0    ./.  \n",
       "4     36  1/1   True  False       18.0  False      36.0    ./.  "
      ]
     },
     "execution_count": 27,
     "metadata": {},
     "output_type": "execute_result"
    }
   ],
   "source": [
    "dysgu_res.breaks_df.head()"
   ]
  },
  {
   "cell_type": "markdown",
   "metadata": {},
   "source": [
    "Also the missing reference calls are given by a set of indexes, here we convert to a list and show the first 3 indexes:"
   ]
  },
  {
   "cell_type": "code",
   "execution_count": 28,
   "metadata": {},
   "outputs": [
    {
     "data": {
      "text/plain": [
       "[2, 4, 6]"
      ]
     },
     "execution_count": 28,
     "metadata": {},
     "output_type": "execute_result"
    }
   ],
   "source": [
    "fn = list(dysgu_res.false_negative_indexes)\n",
    "fn[:3]"
   ]
  },
  {
   "cell_type": "markdown",
   "metadata": {},
   "source": [
    "The corresponding reference calls can be collected using:"
   ]
  },
  {
   "cell_type": "code",
   "execution_count": 29,
   "metadata": {
    "scrolled": true
   },
   "outputs": [
    {
     "data": {
      "text/html": [
       "<div>\n",
       "<style scoped>\n",
       "    .dataframe tbody tr th:only-of-type {\n",
       "        vertical-align: middle;\n",
       "    }\n",
       "\n",
       "    .dataframe tbody tr th {\n",
       "        vertical-align: top;\n",
       "    }\n",
       "\n",
       "    .dataframe thead th {\n",
       "        text-align: right;\n",
       "    }\n",
       "</style>\n",
       "<table border=\"1\" class=\"dataframe\">\n",
       "  <thead>\n",
       "    <tr style=\"text-align: right;\">\n",
       "      <th></th>\n",
       "      <th>chrom</th>\n",
       "      <th>start</th>\n",
       "      <th>chrom2</th>\n",
       "      <th>end</th>\n",
       "      <th>svtype</th>\n",
       "      <th>w</th>\n",
       "      <th>id</th>\n",
       "      <th>size_filter_pass</th>\n",
       "      <th>svlen</th>\n",
       "      <th>GT</th>\n",
       "      <th>FILTER</th>\n",
       "    </tr>\n",
       "  </thead>\n",
       "  <tbody>\n",
       "    <tr>\n",
       "      <th>2</th>\n",
       "      <td>chr1</td>\n",
       "      <td>10616</td>\n",
       "      <td>chr1</td>\n",
       "      <td>10637</td>\n",
       "      <td>DEL</td>\n",
       "      <td>None</td>\n",
       "      <td>HG4_Ill_GATKHC_3</td>\n",
       "      <td>True</td>\n",
       "      <td>21</td>\n",
       "      <td>./.</td>\n",
       "      <td>[NoConsensusGT]</td>\n",
       "    </tr>\n",
       "    <tr>\n",
       "      <th>4</th>\n",
       "      <td>chr1</td>\n",
       "      <td>385977</td>\n",
       "      <td>chr1</td>\n",
       "      <td>385977</td>\n",
       "      <td>INS</td>\n",
       "      <td>None</td>\n",
       "      <td>HG2_PB_PB10Xdip_2154</td>\n",
       "      <td>True</td>\n",
       "      <td>74</td>\n",
       "      <td>./.</td>\n",
       "      <td>[NoConsensusGT]</td>\n",
       "    </tr>\n",
       "    <tr>\n",
       "      <th>6</th>\n",
       "      <td>chr1</td>\n",
       "      <td>532077</td>\n",
       "      <td>chr1</td>\n",
       "      <td>532177</td>\n",
       "      <td>DEL</td>\n",
       "      <td>None</td>\n",
       "      <td>HG2_PB_SVrefine2PB10Xhap12_3</td>\n",
       "      <td>True</td>\n",
       "      <td>100</td>\n",
       "      <td>./.</td>\n",
       "      <td>[NoConsensusGT]</td>\n",
       "    </tr>\n",
       "    <tr>\n",
       "      <th>8</th>\n",
       "      <td>chr1</td>\n",
       "      <td>645959</td>\n",
       "      <td>chr1</td>\n",
       "      <td>645959</td>\n",
       "      <td>INS</td>\n",
       "      <td>None</td>\n",
       "      <td>HG2_PB_PB10Xdip_2549</td>\n",
       "      <td>True</td>\n",
       "      <td>319</td>\n",
       "      <td>./.</td>\n",
       "      <td>[NoConsensusGT]</td>\n",
       "    </tr>\n",
       "    <tr>\n",
       "      <th>9</th>\n",
       "      <td>chr1</td>\n",
       "      <td>724861</td>\n",
       "      <td>chr1</td>\n",
       "      <td>724861</td>\n",
       "      <td>INS</td>\n",
       "      <td>None</td>\n",
       "      <td>HG2_Ill_breakscan11_2919</td>\n",
       "      <td>True</td>\n",
       "      <td>2358</td>\n",
       "      <td>./.</td>\n",
       "      <td>[NoConsensusGT]</td>\n",
       "    </tr>\n",
       "    <tr>\n",
       "      <th>...</th>\n",
       "      <td>...</td>\n",
       "      <td>...</td>\n",
       "      <td>...</td>\n",
       "      <td>...</td>\n",
       "      <td>...</td>\n",
       "      <td>...</td>\n",
       "      <td>...</td>\n",
       "      <td>...</td>\n",
       "      <td>...</td>\n",
       "      <td>...</td>\n",
       "      <td>...</td>\n",
       "    </tr>\n",
       "    <tr>\n",
       "      <th>74007</th>\n",
       "      <td>chrY</td>\n",
       "      <td>59002942</td>\n",
       "      <td>chrY</td>\n",
       "      <td>59002942</td>\n",
       "      <td>INS</td>\n",
       "      <td>None</td>\n",
       "      <td>HG4_PB_HySA_29505</td>\n",
       "      <td>True</td>\n",
       "      <td>61</td>\n",
       "      <td>./.</td>\n",
       "      <td>[NoConsensusGT]</td>\n",
       "    </tr>\n",
       "    <tr>\n",
       "      <th>74008</th>\n",
       "      <td>chrY</td>\n",
       "      <td>59004477</td>\n",
       "      <td>chrY</td>\n",
       "      <td>59004690</td>\n",
       "      <td>DEL</td>\n",
       "      <td>None</td>\n",
       "      <td>HG2_Ill_GATKHCSBGrefine_13224</td>\n",
       "      <td>True</td>\n",
       "      <td>213</td>\n",
       "      <td>./.</td>\n",
       "      <td>[NoConsensusGT]</td>\n",
       "    </tr>\n",
       "    <tr>\n",
       "      <th>74009</th>\n",
       "      <td>chrY</td>\n",
       "      <td>59013741</td>\n",
       "      <td>chrY</td>\n",
       "      <td>59013741</td>\n",
       "      <td>INS</td>\n",
       "      <td>None</td>\n",
       "      <td>HG3_PB_SVrefine2PBcRDovetail_10185</td>\n",
       "      <td>True</td>\n",
       "      <td>133</td>\n",
       "      <td>./.</td>\n",
       "      <td>[NoConsensusGT]</td>\n",
       "    </tr>\n",
       "    <tr>\n",
       "      <th>74010</th>\n",
       "      <td>chrY</td>\n",
       "      <td>59019531</td>\n",
       "      <td>chrY</td>\n",
       "      <td>59019553</td>\n",
       "      <td>DEL</td>\n",
       "      <td>None</td>\n",
       "      <td>HG2_Ill_scalpel_18829</td>\n",
       "      <td>True</td>\n",
       "      <td>22</td>\n",
       "      <td>./.</td>\n",
       "      <td>[NoConsensusGT]</td>\n",
       "    </tr>\n",
       "    <tr>\n",
       "      <th>74011</th>\n",
       "      <td>chrY</td>\n",
       "      <td>59022271</td>\n",
       "      <td>chrY</td>\n",
       "      <td>59022299</td>\n",
       "      <td>DEL</td>\n",
       "      <td>None</td>\n",
       "      <td>HG2_Ill_GATKHC_31934</td>\n",
       "      <td>True</td>\n",
       "      <td>28</td>\n",
       "      <td>./.</td>\n",
       "      <td>[NoConsensusGT]</td>\n",
       "    </tr>\n",
       "  </tbody>\n",
       "</table>\n",
       "<p>30748 rows × 11 columns</p>\n",
       "</div>"
      ],
      "text/plain": [
       "      chrom     start chrom2       end svtype     w  \\\n",
       "2      chr1     10616   chr1     10637    DEL  None   \n",
       "4      chr1    385977   chr1    385977    INS  None   \n",
       "6      chr1    532077   chr1    532177    DEL  None   \n",
       "8      chr1    645959   chr1    645959    INS  None   \n",
       "9      chr1    724861   chr1    724861    INS  None   \n",
       "...     ...       ...    ...       ...    ...   ...   \n",
       "74007  chrY  59002942   chrY  59002942    INS  None   \n",
       "74008  chrY  59004477   chrY  59004690    DEL  None   \n",
       "74009  chrY  59013741   chrY  59013741    INS  None   \n",
       "74010  chrY  59019531   chrY  59019553    DEL  None   \n",
       "74011  chrY  59022271   chrY  59022299    DEL  None   \n",
       "\n",
       "                                       id  size_filter_pass  svlen   GT  \\\n",
       "2                        HG4_Ill_GATKHC_3              True     21  ./.   \n",
       "4                    HG2_PB_PB10Xdip_2154              True     74  ./.   \n",
       "6            HG2_PB_SVrefine2PB10Xhap12_3              True    100  ./.   \n",
       "8                    HG2_PB_PB10Xdip_2549              True    319  ./.   \n",
       "9                HG2_Ill_breakscan11_2919              True   2358  ./.   \n",
       "...                                   ...               ...    ...  ...   \n",
       "74007                   HG4_PB_HySA_29505              True     61  ./.   \n",
       "74008       HG2_Ill_GATKHCSBGrefine_13224              True    213  ./.   \n",
       "74009  HG3_PB_SVrefine2PBcRDovetail_10185              True    133  ./.   \n",
       "74010               HG2_Ill_scalpel_18829              True     22  ./.   \n",
       "74011                HG2_Ill_GATKHC_31934              True     28  ./.   \n",
       "\n",
       "                FILTER  \n",
       "2      [NoConsensusGT]  \n",
       "4      [NoConsensusGT]  \n",
       "6      [NoConsensusGT]  \n",
       "8      [NoConsensusGT]  \n",
       "9      [NoConsensusGT]  \n",
       "...                ...  \n",
       "74007  [NoConsensusGT]  \n",
       "74008  [NoConsensusGT]  \n",
       "74009  [NoConsensusGT]  \n",
       "74010  [NoConsensusGT]  \n",
       "74011  [NoConsensusGT]  \n",
       "\n",
       "[30748 rows x 11 columns]"
      ]
     },
     "execution_count": 29,
     "metadata": {},
     "output_type": "execute_result"
    }
   ],
   "source": [
    "tier1_2.breaks_df.loc[dysgu_res.false_negative_indexes]"
   ]
  },
  {
   "cell_type": "markdown",
   "metadata": {},
   "source": [
    "## Plotting results\n",
    "Svbench provides a function for plotting a precision vs true positive (TP) curve:"
   ]
  },
  {
   "cell_type": "code",
   "execution_count": 30,
   "metadata": {},
   "outputs": [
    {
     "data": {
      "image/png": "[encoded data removed]",
      "text/plain": [
       "<Figure size 504x288 with 1 Axes>"
      ]
     },
     "metadata": {
      "needs_background": "light"
     },
     "output_type": "display_data"
    },
    {
     "data": {
      "text/plain": [
       "{'HG002': <module 'matplotlib.pyplot' from '/opt/anaconda3/lib/python3.8/site-packages/matplotlib/pyplot.py'>}"
      ]
     },
     "execution_count": 30,
     "metadata": {},
     "output_type": "execute_result"
    }
   ],
   "source": [
    "svb.plot(callers_tier1_2, ylim=(0.7, 1), x=\"TP\", y=\"Precision\")"
   ]
  },
  {
   "cell_type": "markdown",
   "metadata": {},
   "source": [
    "Finally, we filter all input calls for insertions (All-regions) and plot the results. Note, the `add_intervals` function should be called again as the old intervals might be invalid:"
   ]
  },
  {
   "cell_type": "code",
   "execution_count": 36,
   "metadata": {},
   "outputs": [
    {
     "name": "stderr",
     "output_type": "stream",
     "text": [
      "Filtered by svtype, caller=dysgu, dataset=HG002 rows before 17878, after 8227\n",
      "Filtered by svtype, caller=manta, dataset=HG002 rows before 8436, after 2764\n",
      "Filtered by svtype, caller=delly, dataset=HG002 rows before 14498, after 1748\n",
      "Filtered by svtype, caller=None, dataset=HG002 rows before 36600, after 36600\n",
      "Scoring dataset=HG002 caller=dysgu\n",
      "Score table caller=dysgu against dataset=HG002\n",
      "Scores:\n",
      "  Caller  T >=    Ref  Total    TP   FP  DTP     FN  Duplication  Precision  Recall      F1\n",
      "0  dysgu  None  36600   8227  7193  934  100  29407     0.013902     0.8851  0.1965  0.3216\n",
      "Scores over size ranges:\n",
      "  Caller    Ref size ranges    TP   FP     FN  Precision    Recall        F1\n",
      "0  dysgu           [30, 50)  2848  199   4584   0.934690  0.383208  0.543563\n",
      "1  dysgu          [50, 500)  3043  695   8817   0.814072  0.256577  0.390178\n",
      "2  dysgu        [500, 5000)   557   40   2762   0.932998  0.167822  0.284474\n",
      "3  dysgu  [5000, 260000000)     1    0    252   1.000000  0.003953  0.007874\n",
      "4  dysgu         All ranges  6449  934  16415   0.873493  0.282059  0.426422\n",
      "GT scores:\n",
      "  Caller  GT_precision  GT_recall   GT_f1   0/1  1/1  0/0\n",
      "0  dysgu       0.46554   0.115233  0.1847  7114  990  123\n",
      "---------------------------------------------\n",
      "Scoring dataset=HG002 caller=manta\n",
      "Score table caller=manta against dataset=HG002\n",
      "Scores:\n",
      "  Caller  T >=    Ref  Total    TP   FP  DTP     FN  Duplication  Precision  Recall      F1\n",
      "0  manta  None  36600   2764  2572  158   34  34028     0.013219     0.9421  0.0703  0.1308\n",
      "Scores over size ranges:\n",
      "  Caller    Ref size ranges    TP  FP     FN  Precision    Recall        F1\n",
      "0  manta           [30, 50)   140  10   7292   0.933333  0.018837  0.036930\n",
      "1  manta          [50, 500)  2083  54   9777   0.974731  0.175632  0.297635\n",
      "2  manta        [500, 5000)   208   2   3111   0.990476  0.062669  0.117880\n",
      "3  manta  [5000, 260000000)    23   0    230   1.000000  0.090909  0.166667\n",
      "4  manta         All ranges  2454  66  20410   0.973810  0.107330  0.193350\n",
      "GT scores:\n",
      "  Caller  GT_precision  GT_recall   GT_f1   1/1   0/1\n",
      "0  manta      0.755789    0.05784  0.1075  1752  1012\n",
      "---------------------------------------------\n",
      "Scoring dataset=HG002 caller=delly\n",
      "Score table caller=delly against dataset=HG002\n",
      "Scores:\n",
      "  Caller  T >=    Ref  Total    TP  FP  DTP     FN  Duplication  Precision  Recall      F1\n",
      "0  delly  None  36600   1748  1698  50    0  34902          0.0     0.9714  0.0464  0.0886\n",
      "/Users/kezcleal/Documents/Data/fusion_finder_development/SVBench/svbench/io_tools.py:1735: RuntimeWarning: invalid value encountered in true_divide\n",
      "  prec = s / (s + s_fp)\n",
      "Scores over size ranges:\n",
      "  Caller    Ref size ranges   TP  FP     FN  Precision    Recall        F1\n",
      "0  delly           [30, 50)  687  21   6745   0.970339  0.092438  0.168796\n",
      "1  delly          [50, 500)  138   1  11722   0.992806  0.011636  0.023002\n",
      "2  delly        [500, 5000)    0   0   3319        NaN  0.000000       NaN\n",
      "3  delly  [5000, 260000000)    0   0    253        NaN  0.000000       NaN\n",
      "4  delly         All ranges  825  22  22039   0.974026  0.036083  0.069588\n",
      "GT scores:\n",
      "  Caller  GT_precision  GT_recall   GT_f1  1/1  0/1  ./.  0/0\n",
      "0  delly      0.810641   0.039015  0.0744  989  714   40    5\n",
      "---------------------------------------------\n"
     ]
    }
   ],
   "source": [
    "callers = [dysgu, manta, delly]\n",
    "callers = [i.filter_by_svtype(\"INS\") for i in callers]\n",
    "hg002 = hg002.filter_by_svtype(\"INS\").add_intervals(slop=250)\n",
    "svb.score(hg002, callers)"
   ]
  },
  {
   "cell_type": "code",
   "execution_count": 37,
   "metadata": {},
   "outputs": [
    {
     "data": {
      "image/png": "[encoded data removed]",
      "text/plain": [
       "<Figure size 504x288 with 1 Axes>"
      ]
     },
     "metadata": {
      "needs_background": "light"
     },
     "output_type": "display_data"
    },
    {
     "data": {
      "text/plain": [
       "{'HG002': <module 'matplotlib.pyplot' from '/opt/anaconda3/lib/python3.8/site-packages/matplotlib/pyplot.py'>}"
      ]
     },
     "execution_count": 37,
     "metadata": {},
     "output_type": "execute_result"
    }
   ],
   "source": [
    "svb.plot(callers, ylim=(0.5, 1), x=\"TP\", y=\"Precision\")"
   ]
  },
  {
   "cell_type": "code",
   "execution_count": null,
   "metadata": {},
   "outputs": [],
   "source": []
  }
 ],
 "metadata": {
  "kernelspec": {
   "display_name": "Python 3",
   "language": "python",
   "name": "python3"
  },
  "language_info": {
   "codemirror_mode": {
    "name": "ipython",
    "version": 3
   },
   "file_extension": ".py",
   "mimetype": "text/x-python",
   "name": "python",
   "nbconvert_exporter": "python",
   "pygments_lexer": "ipython3",
   "version": "3.8.5"
  }
 },
 "nbformat": 4,
 "nbformat_minor": 2
}
